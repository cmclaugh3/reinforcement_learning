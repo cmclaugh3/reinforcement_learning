{
 "cells": [
  {
   "cell_type": "markdown",
   "metadata": {
    "id": "-GBod1nv65dN"
   },
   "source": [
    "## Lab: Cart Pole using OpenAI gym\n",
    "## RL Basics and Simple Policy\n",
    "\n",
    "### University of Virginia\n",
    "### Reinforcement Learning\n",
    "#### Last updated: January 18, 2024\n",
    "\n",
    "---\n"
   ]
  },
  {
   "cell_type": "markdown",
   "metadata": {},
   "source": [
    "### Name: Conor McLaughlin\n",
    " \n",
    "### Computing ID: CFM5QC"
   ]
  },
  {
   "cell_type": "markdown",
   "metadata": {
    "id": "sSQ7PneAB_XJ"
   },
   "source": [
    "#### Instructions:  \n",
    "\n",
    "Carefully read the notes below and run the provided code. Answer each question clearly and show all results.\n",
    "\n",
    "#### TOTAL POINTS: 10\n",
    "\n",
    "---"
   ]
  },
  {
   "cell_type": "markdown",
   "metadata": {
    "id": "krpOsEbE_aTj"
   },
   "source": [
    "### Agent and Environment\n",
    "\n",
    "It is essential for the agent to have a way to get the next state and reward from the environment.\n",
    "\n",
    "Sometimes it is possible for the agent to interact with environment in real life, but often this is expensive / dangerous / impossible.\n",
    "\n",
    "We use models and simulators in this latter case.\n",
    "\n",
    "For this reason, the Gym package is useful in RL\n",
    "\n",
    "**Note**: Going forward, the fork [gymnasium](https://gymnasium.farama.org/) will maintain OpenAI gym.  \n",
    "We will be using `gymnasium` but will still refer to the environment as `gym` when it doesn't cause confusion.\n",
    "\n",
    "---"
   ]
  },
  {
   "cell_type": "markdown",
   "metadata": {
    "id": "fVwAKKjUBxFT"
   },
   "source": [
    "### Introduction to Gym\n",
    "\n",
    "Gym is a toolkit for developing and comparing RL algorithms.\n",
    "\n",
    "It comes with many pre-built environments which have functionality to emulate physical environments.\n",
    "\n",
    "Users can build their own custom environments. See [here](https://towardsdatascience.com/creating-a-custom-openai-gym-environment-for-stock-trading-be532be3910e#:~:text=8%20min%20read-,Create%20custom%20gym%20environments%20from%20scratch%20%E2%80%94%20A%20stock%20market%20example,Atari%20games%20to%20experiment%20with.) for example.\n",
    "\n",
    "---"
   ]
  },
  {
   "cell_type": "markdown",
   "metadata": {
    "id": "jUTU3338AvT9"
   },
   "source": [
    "### Cart Pole Problem\n",
    "\n",
    "The **CartPole** problem has a small state space and action space, so it's popular for illustrating ideas.\n",
    "\n",
    "Pole is attached to a cart on a frictionless track.\n",
    "\n",
    "Pole starts upright\n",
    "\n",
    "**Goal** is to keep pole from falling over\n",
    "\n",
    "Control system by applying **force** -1 or +1 to cart.\n",
    "\n",
    "**Reward** of +1 for each timestep the pole remains upright\n",
    "\n",
    "**Episode** ends when pole is more than 12 degrees from vertical, or cart moves more than 2.4 units from center\n",
    "\n",
    "CartPole-v1 defines *solving* as getting average reward of 195.0 over 100 consecutive trials."
   ]
  },
  {
   "cell_type": "markdown",
   "metadata": {
    "id": "OyoCL_8lB_XK"
   },
   "source": [
    "<img src=\"./cartpole.png\" alt=\"drawing\" width=\"150\"/>"
   ]
  },
  {
   "cell_type": "markdown",
   "metadata": {
    "id": "BGiRrboBB_XK"
   },
   "source": [
    "---"
   ]
  },
  {
   "cell_type": "markdown",
   "metadata": {
    "id": "rA_dd0h6Eoap"
   },
   "source": [
    "### Setup and First Steps"
   ]
  },
  {
   "cell_type": "markdown",
   "metadata": {
    "id": "OgSNDjuzow2U"
   },
   "source": [
    "This notebook can be easily run on [Google Colab](https://colab.research.google.com/)"
   ]
  },
  {
   "cell_type": "code",
   "execution_count": 1,
   "metadata": {
    "colab": {
     "base_uri": "https://localhost:8080/"
    },
    "id": "ee6amSyRCEXI",
    "outputId": "0c4adde2-64c4-43ea-ce2f-f14c71e6912b"
   },
   "outputs": [
    {
     "name": "stdout",
     "output_type": "stream",
     "text": [
      "Collecting gymnasium\n",
      "  Downloading gymnasium-0.29.1-py3-none-any.whl (953 kB)\n",
      "\u001b[2K     \u001b[90m━━━━━━━━━━━━━━━━━━━━━━━━━━━━━━━━━━━━━━\u001b[0m \u001b[32m953.9/953.9 kB\u001b[0m \u001b[31m10.4 MB/s\u001b[0m eta \u001b[36m0:00:00\u001b[0m00:01\u001b[0m00:01\u001b[0m\n",
      "\u001b[?25hRequirement already satisfied: numpy>=1.21.0 in /Users/conormclaughlin/anaconda3/lib/python3.10/site-packages (from gymnasium) (1.22.3)\n",
      "Requirement already satisfied: typing-extensions>=4.3.0 in /Users/conormclaughlin/anaconda3/lib/python3.10/site-packages (from gymnasium) (4.7.1)\n",
      "Collecting farama-notifications>=0.0.1\n",
      "  Downloading Farama_Notifications-0.0.4-py3-none-any.whl (2.5 kB)\n",
      "Requirement already satisfied: cloudpickle>=1.2.0 in /Users/conormclaughlin/anaconda3/lib/python3.10/site-packages (from gymnasium) (2.2.1)\n",
      "Installing collected packages: farama-notifications, gymnasium\n",
      "Successfully installed farama-notifications-0.0.4 gymnasium-0.29.1\n"
     ]
    }
   ],
   "source": [
    "! pip install gymnasium"
   ]
  },
  {
   "cell_type": "code",
   "execution_count": 2,
   "metadata": {
    "id": "ed_DyvHy6pbh"
   },
   "outputs": [],
   "source": [
    "import gymnasium as gym\n",
    "import random\n",
    "import matplotlib.pyplot as plt"
   ]
  },
  {
   "cell_type": "markdown",
   "metadata": {
    "id": "KA4JgtuL5jC9"
   },
   "source": [
    "Load the environment"
   ]
  },
  {
   "cell_type": "code",
   "execution_count": 3,
   "metadata": {
    "colab": {
     "base_uri": "https://localhost:8080/"
    },
    "id": "UcGLRi6F6vcQ",
    "outputId": "1163976f-ffff-4698-ca92-b9a6f9a1e24b"
   },
   "outputs": [
    {
     "name": "stdout",
     "output_type": "stream",
     "text": [
      "(array([0.04225422, 0.02126478, 0.02520455, 0.00700802], dtype=float32), {})\n"
     ]
    }
   ],
   "source": [
    "env = gym.make(\"CartPole-v1\",render_mode=\"rgb_array\")\n",
    "\n",
    "state = env.reset(seed=314)\n",
    "print(state)"
   ]
  },
  {
   "cell_type": "markdown",
   "metadata": {
    "id": "VtQFJsxj7aBj"
   },
   "source": [
    "Given the state, we take an action. The next state comes from the environment, which is encoded in `gym`.\n",
    "\n",
    "The first element holds components:   \n",
    "[0]: cart horizontal position (0.0 = center)  \n",
    "[1]: velocity (positive means right)  \n",
    "[2]: angle of the pole (0.0 = vertical)  \n",
    "[3]: pole's angular velocity (positive means clockwise)"
   ]
  },
  {
   "cell_type": "code",
   "execution_count": 4,
   "metadata": {
    "colab": {
     "base_uri": "https://localhost:8080/"
    },
    "id": "7A5peNKiBXsh",
    "outputId": "afa792ba-fe28-491d-f00e-23ff02b5fee2"
   },
   "outputs": [
    {
     "data": {
      "text/plain": [
       "4"
      ]
     },
     "execution_count": 4,
     "metadata": {},
     "output_type": "execute_result"
    }
   ],
   "source": [
    "# state space number of components\n",
    "env.observation_space.shape[0]"
   ]
  },
  {
   "cell_type": "markdown",
   "metadata": {
    "id": "8GkZmsIN7ky6"
   },
   "source": [
    "The action space consists of two options:\n",
    "\n",
    "[0]: move cart left   \n",
    "[1]: move cart right"
   ]
  },
  {
   "cell_type": "code",
   "execution_count": 5,
   "metadata": {
    "colab": {
     "base_uri": "https://localhost:8080/"
    },
    "id": "ySQ8EpsV7Ngr",
    "outputId": "1800b1e9-0ebf-44d3-d825-541e3073d0d2"
   },
   "outputs": [
    {
     "data": {
      "text/plain": [
       "Discrete(2)"
      ]
     },
     "execution_count": 5,
     "metadata": {},
     "output_type": "execute_result"
    }
   ],
   "source": [
    "env.action_space"
   ]
  },
  {
   "cell_type": "markdown",
   "metadata": {
    "id": "_68lpUuVCc-_"
   },
   "source": [
    "Let's take an action, draw a sample and look at the results."
   ]
  },
  {
   "cell_type": "code",
   "execution_count": 6,
   "metadata": {
    "colab": {
     "base_uri": "https://localhost:8080/"
    },
    "id": "gKFEIHjL7n7h",
    "outputId": "20482aef-28a3-4a31-b7c3-d80ede983f4e"
   },
   "outputs": [
    {
     "name": "stdout",
     "output_type": "stream",
     "text": [
      "state [ 0.04267951  0.21601637  0.02534471 -0.27761722]\n",
      "reward 1.0\n",
      "done False\n",
      "info {}\n"
     ]
    }
   ],
   "source": [
    "# move right\n",
    "action = 1\n",
    "\n",
    "# take a step and get next state, reward from environment\n",
    "state, reward, terminated, truncated, info = env.step(action)\n",
    "done = terminated or truncated\n",
    "\n",
    "print('state', state)\n",
    "print('reward', reward)\n",
    "print('done', done)\n",
    "print('info', info)"
   ]
  },
  {
   "cell_type": "markdown",
   "metadata": {
    "id": "QdXm61SyB_XO"
   },
   "source": [
    "**Note about DONE**  \n",
    "We need to understand if the episode is done after taking action  \n",
    "\n",
    "The API now gives more detail on this variable, which may reach `done` state for two reasons:  \n",
    "- **terminated**=True if environment terminates (eg. due to task completion, failure etc.)  \n",
    "- **truncated**=True if episode truncates due to a time limit or a reason that is not defined as part of the task MDP."
   ]
  },
  {
   "cell_type": "markdown",
   "metadata": {
    "id": "CdXO_KsfB_XO"
   },
   "source": [
    "**Run several steps by taking random actions**  "
   ]
  },
  {
   "cell_type": "code",
   "execution_count": 7,
   "metadata": {
    "colab": {
     "base_uri": "https://localhost:8080/"
    },
    "id": "IG-HlLwDB_XO",
    "outputId": "11ba6919-8b02-4594-92d5-8b29174519eb"
   },
   "outputs": [
    {
     "name": "stdout",
     "output_type": "stream",
     "text": [
      "(array([ 0.04267951, -0.1742094 ,  0.02534471,  0.30753553], dtype=float32), 1.0, False, False, {})\n",
      "(array([ 0.03919533, -0.36968315,  0.03149542,  0.6081025 ], dtype=float32), 1.0, False, False, {})\n",
      "(array([ 0.03180166, -0.17501536,  0.04365747,  0.32550377], dtype=float32), 1.0, False, False, {})\n",
      "(array([ 0.02830135, -0.37073085,  0.05016755,  0.63162845], dtype=float32), 1.0, False, False, {})\n",
      "(array([ 0.02088674, -0.5665155 ,  0.06280012,  0.9396791 ], dtype=float32), 1.0, False, False, {})\n"
     ]
    }
   ],
   "source": [
    "state = env.reset(seed=314)\n",
    "for _ in range(5):\n",
    "    print(env.step(env.action_space.sample())) # take a random action"
   ]
  },
  {
   "cell_type": "markdown",
   "metadata": {
    "id": "bqxI0vej88Kh"
   },
   "source": [
    "**Reward and Episode**  \n",
    "\n",
    "For each time step that the cart keeps the pole balanced, it earns reward 1.\n",
    "\n",
    "If the pole tilts too much or if the cart moves off screen, `reward=0` and `done=True` (the episode will end).\n",
    "\n",
    "When the episode ends, a new episode may begin. The process learns cumulatively from each episode.\n",
    "\n",
    "---"
   ]
  },
  {
   "cell_type": "markdown",
   "metadata": {
    "id": "Yv5gKVde9pvQ"
   },
   "source": [
    "#### 1) Defining a function that runs a simple policy\n",
    "**(POINTS: 1)**\n",
    "\n",
    "When the pole leans left (negative angle), move left. When the pole leans right (positive angle), move right.  \n",
    "\n",
    "The function should take the state and return an action. Test that it works properly.  "
   ]
  },
  {
   "cell_type": "code",
   "execution_count": 8,
   "metadata": {
    "id": "wjhXwpN3aHkD"
   },
   "outputs": [],
   "source": [
    "def simple_policy(state):\n",
    "    if state[2] == 0.0:\n",
    "        if random.random() < 0.5:\n",
    "            return 0\n",
    "        else:\n",
    "            return 1\n",
    "    elif state[2] > 0.0:\n",
    "        return 1\n",
    "    else:\n",
    "        return 0"
   ]
  },
  {
   "cell_type": "markdown",
   "metadata": {
    "id": "rw49Rs99wOKR"
   },
   "source": [
    "The below code tests the function. First it prints the initial state, then it prints the action and next state to show the progression, and confirm the function works properly.  "
   ]
  },
  {
   "cell_type": "code",
   "execution_count": 9,
   "metadata": {
    "colab": {
     "base_uri": "https://localhost:8080/"
    },
    "id": "vNwEytMLqOS_",
    "outputId": "1a5c4a49-1217-437c-a8fc-cf580f2554b3"
   },
   "outputs": [
    {
     "name": "stdout",
     "output_type": "stream",
     "text": [
      "[0.01914849 0.04664719 0.03920978 0.00585077]\n",
      "1\n",
      "[ 0.02008143  0.24118552  0.03932679 -0.2742077 ]\n",
      "1\n",
      "[ 0.02490514  0.4357249   0.03384263 -0.5542321 ]\n",
      "1\n",
      "[ 0.03361964  0.6303557   0.02275799 -0.8360633 ]\n",
      "1\n",
      "[ 0.04622675  0.82515955  0.00603673 -1.1215031 ]\n",
      "1\n",
      "[ 0.06272994  1.0202018  -0.01639334 -1.4122864 ]\n",
      "0\n",
      "[ 0.08313398  0.82528687 -0.04463906 -1.1247727 ]\n",
      "0\n",
      "[ 0.09963971  0.63077754 -0.06713451 -0.8464188 ]\n",
      "0\n",
      "[ 0.11225527  0.4366325  -0.08406289 -0.57558006]\n",
      "0\n",
      "[ 0.12098791  0.24278334 -0.09557449 -0.31051847]\n",
      "0\n",
      "[ 0.12584358  0.04914379 -0.10178486 -0.04944087]\n"
     ]
    }
   ],
   "source": [
    "state1 = env.reset(seed=2173)[0]\n",
    "print(state1)\n",
    "for _ in range(10):\n",
    "    action1 = simple_policy(state1)\n",
    "    print(action1)\n",
    "    state1, reward1, terminated1, truncated1, info1 = env.step(action1)\n",
    "    print(state1)"
   ]
  },
  {
   "cell_type": "markdown",
   "metadata": {
    "id": "wIq0UJphB_XP"
   },
   "source": [
    "#### 2) Simulating episodes with the simple policy  \n",
    "\n",
    "2a) **(POINTS: 2)** Run 1000 episodes each with 100 time steps. Use the `simple_policy` for taking actions.  \n",
    "Each time step will call the `step()` method to get the next state and reward. Produce a boxplot of the rewards from each episode."
   ]
  },
  {
   "cell_type": "code",
   "execution_count": 10,
   "metadata": {
    "id": "CnyTiBu-B_XP"
   },
   "outputs": [],
   "source": [
    "rewards_list = []\n",
    "for _ in range(1000):\n",
    "    state = env.reset()[0]\n",
    "    rewards = 0\n",
    "    done = False\n",
    "    for _ in range(100):\n",
    "        action = simple_policy(state)\n",
    "        state, reward, terminated, truncated, info = env.step(action)\n",
    "        done = terminated or truncated\n",
    "        rewards += reward\n",
    "        if done:\n",
    "            rewards_list.append(rewards)\n",
    "            break"
   ]
  },
  {
   "cell_type": "code",
   "execution_count": 11,
   "metadata": {
    "colab": {
     "base_uri": "https://localhost:8080/",
     "height": 469
    },
    "id": "moxqt4NZ5XCQ",
    "outputId": "928e5815-64b7-4e92-e381-54b0a418e6f8"
   },
   "outputs": [
    {
     "data": {
      "text/plain": [
       "Text(0.5, 1.0, 'Simple Policy Rewards')"
      ]
     },
     "execution_count": 11,
     "metadata": {},
     "output_type": "execute_result"
    },
    {
     "data": {
      "image/png": "[encoded data removed]",
      "text/plain": [
       "<Figure size 640x480 with 1 Axes>"
      ]
     },
     "metadata": {},
     "output_type": "display_data"
    }
   ],
   "source": [
    "plt.boxplot(rewards_list)\n",
    "plt.title('Simple Policy Rewards')"
   ]
  },
  {
   "cell_type": "markdown",
   "metadata": {
    "id": "3vCGs_zlB_XP"
   },
   "source": [
    "2b) **(POINTS: 1)** Is this policy able to solve the cart pole problem? Explain your answer."
   ]
  },
  {
   "cell_type": "markdown",
   "metadata": {
    "id": "UXJhJRMaB_XP"
   },
   "source": [
    "This policy is not able to solve the cart pole problem because it did not average a reward of 195.0 over 100 consecutive trials."
   ]
  },
  {
   "cell_type": "markdown",
   "metadata": {
    "id": "5Iz7bmXTB_XP"
   },
   "source": [
    "#### 3) From Question [2], what is the mean and maximum reward (roughly)?\n",
    "**(POINTS: 1)**"
   ]
  },
  {
   "cell_type": "code",
   "execution_count": 12,
   "metadata": {
    "colab": {
     "base_uri": "https://localhost:8080/"
    },
    "id": "owuzui2wB_XP",
    "outputId": "9906ad9f-530d-4ca4-d5d1-196441c51fd7"
   },
   "outputs": [
    {
     "name": "stdout",
     "output_type": "stream",
     "text": [
      "The mean reward is roughly 42.22\n",
      "The max reward is 72.0\n"
     ]
    }
   ],
   "source": [
    "print(f\"The mean reward is roughly {sum(rewards_list)/len(rewards_list)}\")\n",
    "print(f\"The max reward is {max(rewards_list)}\")"
   ]
  },
  {
   "cell_type": "markdown",
   "metadata": {
    "id": "gnH4J3988wNe"
   },
   "source": [
    "#### 4) Reversed Simple Policy\n",
    "**(POINTS: 2)**\n",
    "\n",
    "What happens if you reverse the simple policy, moving left when the pole leans right, and moving right when the pole leans left? This is not a good idea, but it's instructive. To show the result, produce the boxplot from before, and calculate the mean reward."
   ]
  },
  {
   "cell_type": "code",
   "execution_count": 13,
   "metadata": {
    "id": "YyoOpgHpB_XQ"
   },
   "outputs": [],
   "source": [
    "def rev_simple_policy(state):\n",
    "    if state[2] == 0.0:\n",
    "        if random.random() < 0.5:\n",
    "            return 0\n",
    "        else:\n",
    "            return 1\n",
    "    elif state[2] > 0.0:\n",
    "        return 0\n",
    "    else:\n",
    "        return 1"
   ]
  },
  {
   "cell_type": "code",
   "execution_count": 14,
   "metadata": {
    "id": "wqz1j6HblD5W"
   },
   "outputs": [],
   "source": [
    "rewards_list = []\n",
    "for _ in range(1000):\n",
    "    state = env.reset()[0]\n",
    "    rewards = 0\n",
    "    done = False\n",
    "    state_list = []\n",
    "    for _ in range(100):\n",
    "        action = rev_simple_policy(state)\n",
    "        state, reward, terminated, truncated, info = env.step(action)\n",
    "        done = terminated or truncated\n",
    "        rewards += reward\n",
    "        if done:\n",
    "            rewards_list.append(rewards)\n",
    "            break"
   ]
  },
  {
   "cell_type": "code",
   "execution_count": 15,
   "metadata": {
    "colab": {
     "base_uri": "https://localhost:8080/",
     "height": 469
    },
    "id": "7vK7qQCwlSDn",
    "outputId": "73d61f95-3d94-49c2-b2e4-ce162fc4023a"
   },
   "outputs": [
    {
     "data": {
      "text/plain": [
       "Text(0.5, 1.0, 'Reverse Simple Policy Rewards')"
      ]
     },
     "execution_count": 15,
     "metadata": {},
     "output_type": "execute_result"
    },
    {
     "data": {
      "image/png": "[encoded data removed]",
      "text/plain": [
       "<Figure size 640x480 with 1 Axes>"
      ]
     },
     "metadata": {},
     "output_type": "display_data"
    }
   ],
   "source": [
    "plt.boxplot(rewards_list)\n",
    "plt.title('Reverse Simple Policy Rewards')"
   ]
  },
  {
   "cell_type": "code",
   "execution_count": 16,
   "metadata": {
    "colab": {
     "base_uri": "https://localhost:8080/"
    },
    "id": "CHXvb1hnlHjc",
    "outputId": "34af6495-47b4-453c-ea74-855275a0f993"
   },
   "outputs": [
    {
     "name": "stdout",
     "output_type": "stream",
     "text": [
      "The mean reward for the reversed policy is roughly 8.764\n"
     ]
    }
   ],
   "source": [
    "print(f\"The mean reward for the reversed policy is roughly {sum(rewards_list)/len(rewards_list)}\")"
   ]
  },
  {
   "cell_type": "markdown",
   "metadata": {
    "id": "l8DPx4tyB_XQ"
   },
   "source": [
    "#### 5) Modified Policy\n",
    "**(POINTS: 2)** Full points for attempt and clear explanation.\n",
    "\n",
    "Time to get creative! See if you can try a different policy that improves the mean reward. Clearly explain your strategy."
   ]
  },
  {
   "cell_type": "code",
   "execution_count": 17,
   "metadata": {
    "id": "w0oF1fYbB_XQ"
   },
   "outputs": [],
   "source": [
    "def modified_policy(state):\n",
    "    if state[3] == 0.0:\n",
    "        if random.random() < 0.5:\n",
    "            return 0\n",
    "        else:\n",
    "            return 1\n",
    "    elif state[3] > 0.0:\n",
    "        return 1\n",
    "    else:\n",
    "        return 0"
   ]
  },
  {
   "cell_type": "markdown",
   "metadata": {
    "id": "ypcbBr7-xGZ7"
   },
   "source": [
    "The above policy makes the determination of how to move the cart based on the pole's angular velocity. When the pole is moving counterclockwise (negative angular velocity), move left. When the pole is moving clockwise (positive angular velocity), move right. When the pole's velocity is 0 then it randomly decides to move right or left."
   ]
  },
  {
   "cell_type": "code",
   "execution_count": 18,
   "metadata": {
    "id": "JXysui3TKvQA"
   },
   "outputs": [],
   "source": [
    "rewards_list = []\n",
    "failure_states = []\n",
    "for _ in range(1000):\n",
    "    state = env.reset()[0]\n",
    "    rewards = 0\n",
    "    done = False\n",
    "    for _ in range(300):\n",
    "        action = modified_policy(state)\n",
    "        state, reward, terminated, truncated, info = env.step(action)\n",
    "        done = terminated or truncated\n",
    "        rewards += reward\n",
    "        if done or rewards == 300:\n",
    "            rewards_list.append(rewards)\n",
    "            failure_states.append(state)\n",
    "            break"
   ]
  },
  {
   "cell_type": "code",
   "execution_count": 19,
   "metadata": {
    "colab": {
     "base_uri": "https://localhost:8080/"
    },
    "id": "ESajGdiJK2nO",
    "outputId": "de702cbf-710e-4bb2-8342-2c43d0c36e3a"
   },
   "outputs": [
    {
     "name": "stdout",
     "output_type": "stream",
     "text": [
      "The mean reward for the modified policy is roughly 197.359\n"
     ]
    }
   ],
   "source": [
    "print(f\"The mean reward for the modified policy is roughly {sum(rewards_list)/len(rewards_list)}\")"
   ]
  },
  {
   "cell_type": "markdown",
   "metadata": {
    "id": "t_61H87rA_MT"
   },
   "source": [
    "---  \n",
    "\n",
    "### Wrapup\n",
    "\n",
    "This demo illustrated some basic ideas of reinforcement learning and got you started with OpenAI Gym.\n",
    "\n",
    "We will revisit this example later, bringing in more tools for a better solution.\n",
    "\n",
    "---\n"
   ]
  },
  {
   "cell_type": "markdown",
   "metadata": {
    "id": "JGUDrEkzyuqB"
   },
   "source": [
    "On my honor as a student, I have neither given nor received unauthorized aid on this assignment - Conor McLaughlin"
   ]
  }
 ],
 "metadata": {
  "colab": {
   "provenance": []
  },
  "kernelspec": {
   "display_name": "Python 3 (ipykernel)",
   "language": "python",
   "name": "python3"
  },
  "language_info": {
   "codemirror_mode": {
    "name": "ipython",
    "version": 3
   },
   "file_extension": ".py",
   "mimetype": "text/x-python",
   "name": "python",
   "nbconvert_exporter": "python",
   "pygments_lexer": "ipython3",
   "version": "3.10.8"
  }
 },
 "nbformat": 4,
 "nbformat_minor": 4
}
